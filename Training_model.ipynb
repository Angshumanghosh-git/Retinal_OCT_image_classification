{
 "cells": [
  {
   "cell_type": "code",
   "execution_count": 2,
   "id": "ded4e176-f1a5-405e-a259-785a50d2168d",
   "metadata": {},
   "outputs": [],
   "source": [
    "import tensorflow as tf\n",
    "import matplotlib.pyplot as plt\n",
    "import pandas as pd\n",
    "import seaborn as sns\n",
    "import pickle\n",
    "from tensorflow.keras.utils import image_dataset_from_directory"
   ]
  },
  {
   "cell_type": "code",
   "execution_count": 3,
   "id": "1c74c987-db48-4c87-90ed-20129348eed7",
   "metadata": {},
   "outputs": [
    {
     "name": "stdout",
     "output_type": "stream",
     "text": [
      "Found 76515 files belonging to 4 classes.\n"
     ]
    }
   ],
   "source": [
    "training_set = image_dataset_from_directory(\n",
    "    'train',\n",
    "    labels=\"inferred\",\n",
    "    label_mode=\"categorical\",\n",
    "    class_names=None,\n",
    "    color_mode=\"rgb\",\n",
    "    batch_size=32,\n",
    "    image_size=(224, 224),\n",
    "    shuffle=True,\n",
    "    seed=None,\n",
    "    validation_split=None,\n",
    "    subset=None,\n",
    "    interpolation=\"bilinear\",\n",
    "    follow_links=False,\n",
    "    crop_to_aspect_ratio=False\n",
    ")"
   ]
  },
  {
   "cell_type": "code",
   "execution_count": 4,
   "id": "121a852f-ef4e-4b25-8555-f7d2d4e24249",
   "metadata": {},
   "outputs": [
    {
     "name": "stdout",
     "output_type": "stream",
     "text": [
      "Found 21861 files belonging to 4 classes.\n"
     ]
    }
   ],
   "source": [
    "validation_set = image_dataset_from_directory(\n",
    "    'val',\n",
    "    labels=\"inferred\",\n",
    "    label_mode=\"categorical\",\n",
    "    class_names=None,\n",
    "    color_mode=\"rgb\",\n",
    "    batch_size=32,\n",
    "    image_size=(224, 224),\n",
    "    shuffle=True,\n",
    "    seed=None,\n",
    "    validation_split=None,\n",
    "    subset=None,\n",
    "    interpolation=\"bilinear\",\n",
    "    follow_links=False,\n",
    "    crop_to_aspect_ratio=False\n",
    ")"
   ]
  },
  {
   "cell_type": "code",
   "execution_count": 5,
   "id": "69178243-eed1-466e-bf06-b3137d6ed155",
   "metadata": {},
   "outputs": [
    {
     "data": {
      "text/plain": [
       "<BatchDataset element_spec=(TensorSpec(shape=(None, 224, 224, 3), dtype=tf.float32, name=None), TensorSpec(shape=(None, 4), dtype=tf.float32, name=None))>"
      ]
     },
     "execution_count": 5,
     "metadata": {},
     "output_type": "execute_result"
    }
   ],
   "source": [
    "training_set"
   ]
  },
  {
   "cell_type": "code",
   "execution_count": 6,
   "id": "4c660fca-aa80-43cc-bd82-db6c15142d4e",
   "metadata": {},
   "outputs": [],
   "source": [
    "INPUT_SHAPE = (224, 224, 3)"
   ]
  },
  {
   "cell_type": "code",
   "execution_count": 7,
   "id": "4c706b6b-ae09-450b-b7c9-0dcd67e77509",
   "metadata": {},
   "outputs": [],
   "source": [
    "mobnet = tf.keras.applications.MobileNetV3Large(\n",
    "    input_shape=INPUT_SHAPE,\n",
    "    alpha=1.0,\n",
    "    minimalistic=False,\n",
    "    include_top=True,\n",
    "    weights=\"imagenet\",\n",
    "    input_tensor=None,\n",
    "    classes=1000,\n",
    "    pooling=None,\n",
    "    dropout_rate=0.2,\n",
    "    classifier_activation=\"softmax\",\n",
    "    include_preprocessing=True,\n",
    "    # name=\"MobileNetV3Large\",\n",
    ")"
   ]
  },
  {
   "cell_type": "code",
   "execution_count": 8,
   "id": "95f1055f-8e35-4cfe-9214-b2d5be5fc77c",
   "metadata": {},
   "outputs": [],
   "source": [
    "#mobnet.trainable = False #--used to freeze weights of this pretrained model "
   ]
  },
  {
   "cell_type": "code",
   "execution_count": 9,
   "id": "521e856e-a11c-4089-a14a-9488e645d23d",
   "metadata": {},
   "outputs": [],
   "source": [
    "model = tf.keras.models.Sequential()"
   ]
  },
  {
   "cell_type": "code",
   "execution_count": 10,
   "id": "4276b5f6-22b8-42f7-b9c2-30a6aa8be645",
   "metadata": {},
   "outputs": [],
   "source": [
    "model.add(tf.keras.Input(shape=INPUT_SHAPE))"
   ]
  },
  {
   "cell_type": "code",
   "execution_count": 11,
   "id": "897f1a16-a1b3-4eb6-8841-0be6f932abc2",
   "metadata": {},
   "outputs": [],
   "source": [
    "model.add(mobnet)"
   ]
  },
  {
   "cell_type": "code",
   "execution_count": 12,
   "id": "151ee754-28c3-48fa-a200-67697e892a89",
   "metadata": {},
   "outputs": [],
   "source": [
    "model.add(tf.keras.layers.Dense(units = 4,activation='softmax'))"
   ]
  },
  {
   "cell_type": "code",
   "execution_count": null,
   "id": "ffa340c8-53b1-4032-85a2-fac177b61eba",
   "metadata": {},
   "outputs": [],
   "source": []
  },
  {
   "cell_type": "code",
   "execution_count": null,
   "id": "b1c9ccfd-fb94-4206-851e-dba2af8d529c",
   "metadata": {},
   "outputs": [],
   "source": []
  },
  {
   "cell_type": "code",
   "execution_count": 13,
   "id": "daa8e628-aba7-43e1-b7ee-82ba076ba28d",
   "metadata": {},
   "outputs": [],
   "source": [
    "model.compile(optimizer=tf.keras.optimizers.legacy.Adam(\n",
    "    learning_rate=0.0001),loss='categorical_crossentropy',metrics=['accuracy'])"
   ]
  },
  {
   "cell_type": "code",
   "execution_count": 14,
   "id": "99a8a5c0-0b29-4ca1-9737-c0e07a97737a",
   "metadata": {},
   "outputs": [
    {
     "name": "stdout",
     "output_type": "stream",
     "text": [
      "Model: \"sequential\"\n",
      "_________________________________________________________________\n",
      " Layer (type)                Output Shape              Param #   \n",
      "=================================================================\n",
      " MobilenetV3large (Functiona  (None, 1000)             5507432   \n",
      " l)                                                              \n",
      "                                                                 \n",
      " dense (Dense)               (None, 4)                 4004      \n",
      "                                                                 \n",
      "=================================================================\n",
      "Total params: 5,511,436\n",
      "Trainable params: 5,487,036\n",
      "Non-trainable params: 24,400\n",
      "_________________________________________________________________\n"
     ]
    }
   ],
   "source": [
    "model.summary()"
   ]
  },
  {
   "cell_type": "code",
   "execution_count": 15,
   "id": "c64f323e-4977-4dfb-b864-96d51763a534",
   "metadata": {},
   "outputs": [
    {
     "name": "stdout",
     "output_type": "stream",
     "text": [
      "Epoch 1/15\n",
      "2392/2392 [==============================] - 449s 181ms/step - loss: 1.1266 - accuracy: 0.8653 - val_loss: 0.9557 - val_accuracy: 0.8967\n",
      "Epoch 2/15\n",
      "2392/2392 [==============================] - 428s 179ms/step - loss: 0.8245 - accuracy: 0.8953 - val_loss: 0.7119 - val_accuracy: 0.9017\n",
      "Epoch 3/15\n",
      "2392/2392 [==============================] - 422s 176ms/step - loss: 0.6239 - accuracy: 0.9433 - val_loss: 0.5530 - val_accuracy: 0.9494\n",
      "Epoch 4/15\n",
      "2392/2392 [==============================] - 422s 176ms/step - loss: 0.4818 - accuracy: 0.9592 - val_loss: 0.4307 - val_accuracy: 0.9571\n",
      "Epoch 5/15\n",
      "2392/2392 [==============================] - 416s 174ms/step - loss: 0.3794 - accuracy: 0.9612 - val_loss: 0.3471 - val_accuracy: 0.9546\n",
      "Epoch 6/15\n",
      "2392/2392 [==============================] - 699s 292ms/step - loss: 0.3003 - accuracy: 0.9646 - val_loss: 0.2723 - val_accuracy: 0.9648\n",
      "Epoch 7/15\n",
      "2392/2392 [==============================] - 832s 347ms/step - loss: 0.2363 - accuracy: 0.9708 - val_loss: 0.2370 - val_accuracy: 0.9586\n",
      "Epoch 8/15\n",
      "2392/2392 [==============================] - 605s 252ms/step - loss: 0.1871 - accuracy: 0.9751 - val_loss: 0.1850 - val_accuracy: 0.9683\n",
      "Epoch 9/15\n",
      "2392/2392 [==============================] - 618s 258ms/step - loss: 0.1492 - accuracy: 0.9794 - val_loss: 0.1686 - val_accuracy: 0.9648\n",
      "Epoch 10/15\n",
      "2392/2392 [==============================] - 501s 209ms/step - loss: 0.1205 - accuracy: 0.9823 - val_loss: 0.1420 - val_accuracy: 0.9718\n",
      "Epoch 11/15\n",
      "2392/2392 [==============================] - 14366s 6s/step - loss: 0.0991 - accuracy: 0.9849 - val_loss: 0.1474 - val_accuracy: 0.9672\n",
      "Epoch 12/15\n",
      "2392/2392 [==============================] - 441s 184ms/step - loss: 0.0840 - accuracy: 0.9870 - val_loss: 0.1435 - val_accuracy: 0.9649\n",
      "Epoch 13/15\n",
      "2392/2392 [==============================] - 366s 153ms/step - loss: 0.0726 - accuracy: 0.9885 - val_loss: 0.1285 - val_accuracy: 0.9720\n",
      "Epoch 14/15\n",
      "2392/2392 [==============================] - 342s 143ms/step - loss: 0.0637 - accuracy: 0.9896 - val_loss: 0.1181 - val_accuracy: 0.9731\n",
      "Epoch 15/15\n",
      "2392/2392 [==============================] - 370s 155ms/step - loss: 0.0580 - accuracy: 0.9901 - val_loss: 0.1137 - val_accuracy: 0.9742\n"
     ]
    }
   ],
   "source": [
    "training_history = model.fit(x=training_set,validation_data=validation_set,epochs=15)"
   ]
  },
  {
   "cell_type": "code",
   "execution_count": null,
   "id": "89a1a803-5f08-4f34-beed-9044daa9b554",
   "metadata": {},
   "outputs": [],
   "source": []
  },
  {
   "cell_type": "code",
   "execution_count": 16,
   "id": "339316a0-e4fb-480c-bae6-e7209804bb0e",
   "metadata": {},
   "outputs": [],
   "source": [
    "model.save(\"Trained_Model.h5\")"
   ]
  },
  {
   "cell_type": "code",
   "execution_count": 17,
   "id": "8ca7482f-546f-4646-8606-b6d3543db759",
   "metadata": {},
   "outputs": [],
   "source": [
    "model.save(\"Trained_Model.keras\")"
   ]
  },
  {
   "cell_type": "code",
   "execution_count": 18,
   "id": "883d38b0-00b4-436f-a7dd-473afd7bd12f",
   "metadata": {},
   "outputs": [],
   "source": [
    "# Saving history\n",
    "with open('Training_history.pkl', 'wb') as f:\n",
    "    pickle.dump(training_history.history, f)"
   ]
  },
  {
   "cell_type": "code",
   "execution_count": 19,
   "id": "6ecd3f4b-5296-4217-9c3f-f001b477360c",
   "metadata": {},
   "outputs": [
    {
     "data": {
      "text/plain": [
       "{'loss': [1.1266162395477295,\n",
       "  0.8244674205780029,\n",
       "  0.6238992214202881,\n",
       "  0.48175710439682007,\n",
       "  0.37944573163986206,\n",
       "  0.3002587556838989,\n",
       "  0.23628975450992584,\n",
       "  0.1870715320110321,\n",
       "  0.14916448295116425,\n",
       "  0.12049394845962524,\n",
       "  0.09914962947368622,\n",
       "  0.08401799947023392,\n",
       "  0.0726182609796524,\n",
       "  0.06370051205158234,\n",
       "  0.05804949626326561],\n",
       " 'accuracy': [0.8653205037117004,\n",
       "  0.8953015804290771,\n",
       "  0.943305253982544,\n",
       "  0.9592106342315674,\n",
       "  0.961223304271698,\n",
       "  0.964634358882904,\n",
       "  0.9707900285720825,\n",
       "  0.9751290678977966,\n",
       "  0.9794288873672485,\n",
       "  0.9822779893875122,\n",
       "  0.9849441051483154,\n",
       "  0.9870091080665588,\n",
       "  0.9884728193283081,\n",
       "  0.9896491169929504,\n",
       "  0.9900673031806946],\n",
       " 'val_loss': [0.9557129740715027,\n",
       "  0.7118853330612183,\n",
       "  0.5529876947402954,\n",
       "  0.43072617053985596,\n",
       "  0.3470507264137268,\n",
       "  0.2723487317562103,\n",
       "  0.2370094358921051,\n",
       "  0.18495404720306396,\n",
       "  0.16861265897750854,\n",
       "  0.14195576310157776,\n",
       "  0.14738720655441284,\n",
       "  0.14347237348556519,\n",
       "  0.12848401069641113,\n",
       "  0.11810296028852463,\n",
       "  0.11369019746780396],\n",
       " 'val_accuracy': [0.8967110514640808,\n",
       "  0.9016513228416443,\n",
       "  0.9493618607521057,\n",
       "  0.9570925235748291,\n",
       "  0.9545766711235046,\n",
       "  0.9647774696350098,\n",
       "  0.9586020708084106,\n",
       "  0.9682996869087219,\n",
       "  0.9647774696350098,\n",
       "  0.9718219637870789,\n",
       "  0.9671561121940613,\n",
       "  0.96486896276474,\n",
       "  0.9720049500465393,\n",
       "  0.9730570316314697,\n",
       "  0.9741548895835876]}"
      ]
     },
     "execution_count": 19,
     "metadata": {},
     "output_type": "execute_result"
    }
   ],
   "source": [
    "#Reloading History from pickle\n",
    "with open('Training_history.pkl', 'rb') as f:\n",
    "    load_history = pickle.load(f)\n",
    "load_history"
   ]
  },
  {
   "cell_type": "code",
   "execution_count": 20,
   "id": "77fa4a06",
   "metadata": {},
   "outputs": [
    {
     "data": {
      "image/png": "[encoded data removed]",
      "text/plain": [
       "<Figure size 640x480 with 1 Axes>"
      ]
     },
     "metadata": {},
     "output_type": "display_data"
    }
   ],
   "source": [
    "#Loss Visualization\n",
    "epochs = [i for i in range(1,16)]\n",
    "plt.plot(epochs,load_history['loss'],color='red',label='Training Loss')\n",
    "plt.plot(epochs,load_history['val_loss'],color='blue',label='Validation Loss')\n",
    "plt.xlabel('No. of Epochs')\n",
    "plt.title('Visualization of Loss Result')\n",
    "plt.legend()\n",
    "plt.show()"
   ]
  },
  {
   "cell_type": "code",
   "execution_count": 21,
   "id": "f0fde29d-88cd-4c9c-878d-8ed346de2f3d",
   "metadata": {},
   "outputs": [
    {
     "name": "stdout",
     "output_type": "stream",
     "text": [
      "Found 10933 files belonging to 4 classes.\n"
     ]
    }
   ],
   "source": [
    "test_set = validation_set = image_dataset_from_directory(\n",
    "    'test',\n",
    "    labels=\"inferred\",\n",
    "    label_mode=\"categorical\",\n",
    "    class_names=None,\n",
    "    color_mode=\"rgb\",\n",
    "    batch_size=64,\n",
    "    image_size=(224, 224),\n",
    "    shuffle=True,\n",
    "    seed=None,\n",
    "    validation_split=None,\n",
    "    subset=None,\n",
    "    interpolation=\"bilinear\",\n",
    "    follow_links=False,\n",
    "    crop_to_aspect_ratio=False\n",
    ")"
   ]
  },
  {
   "cell_type": "code",
   "execution_count": 23,
   "id": "d875fe52-acdd-482a-8328-99a2ee2019ea",
   "metadata": {},
   "outputs": [
    {
     "name": "stdout",
     "output_type": "stream",
     "text": [
      "171/171 [==============================] - 13s 72ms/step - loss: 0.1214 - accuracy: 0.9730\n"
     ]
    }
   ],
   "source": [
    "test_loss,test_acc = model.evaluate(test_set)"
   ]
  },
  {
   "cell_type": "code",
   "execution_count": 24,
   "id": "1f2862ae-950f-4f00-a4fb-a7765142cdfc",
   "metadata": {},
   "outputs": [
    {
     "data": {
      "text/plain": [
       "0.12139757722616196"
      ]
     },
     "execution_count": 24,
     "metadata": {},
     "output_type": "execute_result"
    }
   ],
   "source": [
    "test_loss"
   ]
  },
  {
   "cell_type": "code",
   "execution_count": 25,
   "id": "84ad28a1-188c-4ce4-ba4f-1ef924439ec4",
   "metadata": {},
   "outputs": [
    {
     "data": {
      "text/plain": [
       "0.9730174541473389"
      ]
     },
     "execution_count": 25,
     "metadata": {},
     "output_type": "execute_result"
    }
   ],
   "source": [
    "test_acc"
   ]
  },
  {
   "cell_type": "code",
   "execution_count": null,
   "id": "39bc636d-88a7-41a7-9179-4680ea0794cc",
   "metadata": {},
   "outputs": [],
   "source": []
  },
  {
   "cell_type": "code",
   "execution_count": null,
   "id": "91ad197e-4279-49fa-bff9-f35917b064b1",
   "metadata": {},
   "outputs": [],
   "source": []
  },
  {
   "cell_type": "markdown",
   "id": "5fa13f53-6eed-4b66-9a9c-aac32264fc22",
   "metadata": {},
   "source": [
    "## Model Evaluation"
   ]
  },
  {
   "cell_type": "code",
   "execution_count": 27,
   "id": "53994404-12d4-4337-b306-56e2cac5b38c",
   "metadata": {},
   "outputs": [],
   "source": [
    "model = tf.keras.models.load_model(\"Trained_Model.h5\")"
   ]
  },
  {
   "cell_type": "code",
   "execution_count": 29,
   "id": "59f561ef-3024-481c-8d8c-91a9473a1a3a",
   "metadata": {},
   "outputs": [
    {
     "name": "stdout",
     "output_type": "stream",
     "text": [
      "Model: \"sequential\"\n",
      "_________________________________________________________________\n",
      " Layer (type)                Output Shape              Param #   \n",
      "=================================================================\n",
      " MobilenetV3large (Functiona  (None, 1000)             5507432   \n",
      " l)                                                              \n",
      "                                                                 \n",
      " dense (Dense)               (None, 4)                 4004      \n",
      "                                                                 \n",
      "=================================================================\n",
      "Total params: 5,511,436\n",
      "Trainable params: 5,487,036\n",
      "Non-trainable params: 24,400\n",
      "_________________________________________________________________\n"
     ]
    }
   ],
   "source": [
    "model.summary()"
   ]
  },
  {
   "cell_type": "code",
   "execution_count": 30,
   "id": "f7c20a1f-1521-4ac7-b87c-8cfa04fe15c2",
   "metadata": {},
   "outputs": [
    {
     "name": "stdout",
     "output_type": "stream",
     "text": [
      "Found 10933 files belonging to 4 classes.\n"
     ]
    }
   ],
   "source": [
    "test_set = validation_set = image_dataset_from_directory(\n",
    "    'test',\n",
    "    labels=\"inferred\",\n",
    "    label_mode=\"categorical\",\n",
    "    class_names=None,\n",
    "    color_mode=\"rgb\",\n",
    "    batch_size=64,\n",
    "    image_size=(224, 224),\n",
    "    shuffle=False,\n",
    "    seed=None,\n",
    "    validation_split=None,\n",
    "    subset=None,\n",
    "    interpolation=\"bilinear\",\n",
    "    follow_links=False,\n",
    "    crop_to_aspect_ratio=False\n",
    ")"
   ]
  },
  {
   "cell_type": "code",
   "execution_count": 31,
   "id": "0ad121d4-17b5-47af-99ae-366fc02d11ff",
   "metadata": {},
   "outputs": [],
   "source": [
    "##Computing True labels from test set\n",
    "true_categories = tf.concat([y for x, y in test_set], axis=0)\n",
    "Y_true = tf.argmax(true_categories, axis=1)"
   ]
  },
  {
   "cell_type": "code",
   "execution_count": 32,
   "id": "5fd16398-edd0-4da4-9052-cd0234069b18",
   "metadata": {},
   "outputs": [
    {
     "data": {
      "text/plain": [
       "<tf.Tensor: shape=(10933,), dtype=int64, numpy=array([0, 0, 0, ..., 3, 3, 3], dtype=int64)>"
      ]
     },
     "execution_count": 32,
     "metadata": {},
     "output_type": "execute_result"
    }
   ],
   "source": [
    "Y_true"
   ]
  },
  {
   "cell_type": "code",
   "execution_count": 33,
   "id": "ab9e4c46-611d-4970-ad29-b7fdc04a121e",
   "metadata": {},
   "outputs": [
    {
     "name": "stdout",
     "output_type": "stream",
     "text": [
      "171/171 [==============================] - 14s 72ms/step\n"
     ]
    }
   ],
   "source": [
    "##Computing Predicted labels using test set\n",
    "predicted_categories = model.predict(test_set)\n",
    "Y_pred = tf.argmax(predicted_categories, axis=1)"
   ]
  },
  {
   "cell_type": "code",
   "execution_count": 34,
   "id": "dfb5d792-e4d7-4129-8e9b-96284e50cdf3",
   "metadata": {},
   "outputs": [
    {
     "data": {
      "text/plain": [
       "<tf.Tensor: shape=(10933,), dtype=int64, numpy=array([0, 0, 0, ..., 3, 3, 3], dtype=int64)>"
      ]
     },
     "execution_count": 34,
     "metadata": {},
     "output_type": "execute_result"
    }
   ],
   "source": [
    "Y_true"
   ]
  },
  {
   "cell_type": "code",
   "execution_count": 35,
   "id": "29a1a01e-9d0c-4408-8e78-709f7488e63a",
   "metadata": {},
   "outputs": [
    {
     "data": {
      "text/plain": [
       "<tf.Tensor: shape=(10933,), dtype=int64, numpy=array([0, 0, 0, ..., 3, 3, 3], dtype=int64)>"
      ]
     },
     "execution_count": 35,
     "metadata": {},
     "output_type": "execute_result"
    }
   ],
   "source": [
    "Y_pred"
   ]
  },
  {
   "cell_type": "markdown",
   "id": "68f67f6b-c2f8-4115-a573-18a9bac06dcd",
   "metadata": {},
   "source": [
    "### 1. Classification Report"
   ]
  },
  {
   "cell_type": "code",
   "execution_count": 36,
   "id": "faf70ccb-ad49-4069-9b6b-d6b705581c0d",
   "metadata": {},
   "outputs": [
    {
     "name": "stdout",
     "output_type": "stream",
     "text": [
      "              precision    recall  f1-score   support\n",
      "\n",
      "           0       0.98      0.98      0.98      3746\n",
      "           1       0.96      0.96      0.96      1161\n",
      "           2       0.90      0.89      0.89       887\n",
      "           3       0.99      0.99      0.99      5139\n",
      "\n",
      "    accuracy                           0.97     10933\n",
      "   macro avg       0.95      0.95      0.95     10933\n",
      "weighted avg       0.97      0.97      0.97     10933\n",
      "\n"
     ]
    }
   ],
   "source": [
    "from sklearn.metrics import classification_report\n",
    "print(classification_report(Y_true,Y_pred))"
   ]
  },
  {
   "cell_type": "markdown",
   "id": "29ad199b-8203-48d9-aad6-bb1a4ec36712",
   "metadata": {},
   "source": [
    "### 2. Confusion Matrix"
   ]
  },
  {
   "cell_type": "code",
   "execution_count": 37,
   "id": "284800ca-ece2-4786-91ce-c8ebec0fab67",
   "metadata": {},
   "outputs": [
    {
     "data": {
      "text/plain": [
       "array([[3654,   30,   56,    6],\n",
       "       [  15, 1115,    0,   31],\n",
       "       [  69,    4,  785,   29],\n",
       "       [   8,   12,   35, 5084]], dtype=int64)"
      ]
     },
     "execution_count": 37,
     "metadata": {},
     "output_type": "execute_result"
    }
   ],
   "source": [
    "from sklearn.metrics import confusion_matrix\n",
    "cm = confusion_matrix(Y_true,Y_pred)\n",
    "cm"
   ]
  },
  {
   "cell_type": "code",
   "execution_count": 38,
   "id": "1fbf4681-2f88-4c78-a520-6e32c93700eb",
   "metadata": {},
   "outputs": [
    {
     "data": {
      "image/png": "[encoded data removed]",
      "text/plain": [
       "<Figure size 1000x1000 with 2 Axes>"
      ]
     },
     "metadata": {},
     "output_type": "display_data"
    }
   ],
   "source": [
    "import seaborn as sns\n",
    "plt.figure(figsize=(10,10))\n",
    "sns.heatmap(cm,annot=True,annot_kws={\"size\":8})\n",
    "plt.xlabel(\"Predicted Class\",fontsize=10)\n",
    "plt.ylabel(\"Actual Class\",fontsize=10)\n",
    "plt.title(\"Human Eye Disease Prediction Confusion Matrix\",fontsize=12)\n",
    "plt.show()"
   ]
  },
  {
   "cell_type": "code",
   "execution_count": null,
   "id": "b30ee529-c02f-4638-98d7-c44c66ed6e4c",
   "metadata": {},
   "outputs": [],
   "source": []
  }
 ],
 "metadata": {
  "kernelspec": {
   "display_name": "tensorflow_env",
   "language": "python",
   "name": "python3"
  },
  "language_info": {
   "codemirror_mode": {
    "name": "ipython",
    "version": 3
   },
   "file_extension": ".py",
   "mimetype": "text/x-python",
   "name": "python",
   "nbconvert_exporter": "python",
   "pygments_lexer": "ipython3",
   "version": "3.10.16"
  }
 },
 "nbformat": 4,
 "nbformat_minor": 5
}
